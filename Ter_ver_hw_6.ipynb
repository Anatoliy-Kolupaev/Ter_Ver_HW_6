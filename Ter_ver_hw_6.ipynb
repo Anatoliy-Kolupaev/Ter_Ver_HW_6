{
 "cells": [
  {
   "cell_type": "markdown",
   "id": "7a48cea6",
   "metadata": {},
   "source": [
    "Задача №1  \n",
    "Известно, что генеральная совокупность распределена нормально со средним квадратическим отклонением, равным 16.\n",
    "Найти доверительный интервал для оценки математического ожидания a с надежностью 0.95, если выборочная средняя M = 80, а объем выборки n = 256."
   ]
  },
  {
   "cell_type": "code",
   "execution_count": 45,
   "id": "257626b3",
   "metadata": {},
   "outputs": [],
   "source": [
    "import scipy.stats as st\n",
    "import numpy as np\n",
    "\n",
    "my = 16\n",
    "z = st.norm.ppf(0.975)\n",
    "x = 80\n",
    "n = 256"
   ]
  },
  {
   "cell_type": "code",
   "execution_count": 46,
   "id": "d036e83a",
   "metadata": {},
   "outputs": [
    {
     "data": {
      "text/plain": [
       "[78.04003601545995, 81.95996398454005]"
      ]
     },
     "execution_count": 46,
     "metadata": {},
     "output_type": "execute_result"
    }
   ],
   "source": [
    "[x-z*(my/(n**0.5)), x+z*(my/(n**0.5))]"
   ]
  },
  {
   "cell_type": "markdown",
   "id": "4653b05e",
   "metadata": {},
   "source": [
    "Задача №2  \n",
    "В результате 10 независимых измерений некоторой величины X, выполненных с одинаковой точностью, получены опытные данные:  \n",
    "6.9, 6.1, 6.2, 6.8, 7.5, 6.3, 6.4, 6.9, 6.7, 6.1  \n",
    "Предполагая, что результаты измерений подчинены нормальному закону распределения вероятностей, оценить истинное значение величины X при помощи доверительного интервала, покрывающего это значение с доверительной вероятностью 0,95."
   ]
  },
  {
   "cell_type": "markdown",
   "id": "544f5798",
   "metadata": {},
   "source": [
    "Находим t - критерий:"
   ]
  },
  {
   "cell_type": "code",
   "execution_count": 67,
   "id": "934a26f9",
   "metadata": {},
   "outputs": [
    {
     "data": {
      "text/plain": [
       "1.8331129326536335"
      ]
     },
     "execution_count": 67,
     "metadata": {},
     "output_type": "execute_result"
    }
   ],
   "source": [
    "i = 10\n",
    "t = st.t.ppf(0.95, i-1)\n",
    "t"
   ]
  },
  {
   "cell_type": "markdown",
   "id": "d5c13ff2",
   "metadata": {},
   "source": [
    "Находим среднее значение выборки:"
   ]
  },
  {
   "cell_type": "code",
   "execution_count": 68,
   "id": "450c3e8d",
   "metadata": {},
   "outputs": [
    {
     "data": {
      "text/plain": [
       "6.590000000000001"
      ]
     },
     "execution_count": 68,
     "metadata": {},
     "output_type": "execute_result"
    }
   ],
   "source": [
    "k = np.array([6.9, 6.1, 6.2, 6.8, 7.5, 6.3, 6.4, 6.9, 6.7, 6.1])\n",
    "sr = np.mean(k)\n",
    "sr"
   ]
  },
  {
   "cell_type": "markdown",
   "id": "4766e605",
   "metadata": {},
   "source": [
    "Рассчитываем сигму по выборке:"
   ]
  },
  {
   "cell_type": "code",
   "execution_count": 73,
   "id": "3e4c76ec",
   "metadata": {},
   "outputs": [
    {
     "data": {
      "text/plain": [
       "0.4508017549014448"
      ]
     },
     "execution_count": 73,
     "metadata": {},
     "output_type": "execute_result"
    }
   ],
   "source": [
    "mu = np.std(k, ddof=1)\n",
    "mu"
   ]
  },
  {
   "cell_type": "code",
   "execution_count": 74,
   "id": "06ddf441",
   "metadata": {},
   "outputs": [
    {
     "data": {
      "text/plain": [
       "[6.328678694353238, 6.8513213056467634]"
      ]
     },
     "execution_count": 74,
     "metadata": {},
     "output_type": "execute_result"
    }
   ],
   "source": [
    "[sr - t * (mu/(i**0.5)), sr + t * (mu/(i**0.5))]"
   ]
  },
  {
   "cell_type": "markdown",
   "id": "11b6819e",
   "metadata": {},
   "source": [
    "Ответ:  Истинное значение величины X с доверительной вероятностью 95% находится в интервале [6.328678694353238, 6.8513213056467634]"
   ]
  },
  {
   "cell_type": "markdown",
   "id": "3979c23b",
   "metadata": {},
   "source": [
    "Задача №3  \n",
    "Рост дочерей 175, 167, 154, 174, 178, 148, 160, 167, 169, 170  \n",
    "Рост матерей  178, 165, 165, 173, 168, 155, 160, 164, 178, 175  \n",
    "Используя эти данные построить 95% доверительный интервал для разности среднего роста родителей и детей."
   ]
  },
  {
   "cell_type": "code",
   "execution_count": 56,
   "id": "7585f65e",
   "metadata": {},
   "outputs": [
    {
     "data": {
      "text/plain": [
       "1.7340636066175354"
      ]
     },
     "execution_count": 56,
     "metadata": {},
     "output_type": "execute_result"
    }
   ],
   "source": [
    "t1 = st.t.ppf(0.95, 18)\n",
    "t1"
   ]
  },
  {
   "cell_type": "markdown",
   "id": "ce57f44b",
   "metadata": {},
   "source": [
    "Находим среднее значение 1й выборки:"
   ]
  },
  {
   "cell_type": "code",
   "execution_count": 57,
   "id": "d280a846",
   "metadata": {},
   "outputs": [
    {
     "data": {
      "text/plain": [
       "166.2"
      ]
     },
     "execution_count": 57,
     "metadata": {},
     "output_type": "execute_result"
    }
   ],
   "source": [
    "x1 = np.array([175, 167, 154, 174, 178, 148, 160, 167, 169, 170])\n",
    "sr1 = np.mean(x1)\n",
    "sr1"
   ]
  },
  {
   "cell_type": "markdown",
   "id": "ed45468c",
   "metadata": {},
   "source": [
    "Находим среднее значение 2й выборки:"
   ]
  },
  {
   "cell_type": "code",
   "execution_count": 75,
   "id": "fe11dba0",
   "metadata": {},
   "outputs": [
    {
     "data": {
      "text/plain": [
       "168.1"
      ]
     },
     "execution_count": 75,
     "metadata": {},
     "output_type": "execute_result"
    }
   ],
   "source": [
    "x2 = np.array([178, 165, 165, 173, 168, 155, 160, 164, 178, 175])\n",
    "sr2 = np.mean(x2)\n",
    "sr2"
   ]
  },
  {
   "cell_type": "markdown",
   "id": "d2f61a8c",
   "metadata": {},
   "source": [
    "Находим дельту между 1й и 2й выборками:"
   ]
  },
  {
   "cell_type": "code",
   "execution_count": 59,
   "id": "535a6a6d",
   "metadata": {},
   "outputs": [
    {
     "data": {
      "text/plain": [
       "-1.9000000000000057"
      ]
     },
     "execution_count": 59,
     "metadata": {},
     "output_type": "execute_result"
    }
   ],
   "source": [
    "delta = sr1-sr2\n",
    "delta"
   ]
  },
  {
   "cell_type": "markdown",
   "id": "7cf1f64a",
   "metadata": {},
   "source": [
    "Рассчитываем дисперсию для 1й выборки:"
   ]
  },
  {
   "cell_type": "code",
   "execution_count": 60,
   "id": "5af7bc4e",
   "metadata": {},
   "outputs": [
    {
     "data": {
      "text/plain": [
       "91.06666666666665"
      ]
     },
     "execution_count": 60,
     "metadata": {},
     "output_type": "execute_result"
    }
   ],
   "source": [
    "disp1 = np.std(x1, ddof=1)**2\n",
    "disp1"
   ]
  },
  {
   "cell_type": "markdown",
   "id": "abf25c01",
   "metadata": {},
   "source": [
    "Рассчитываем дисперсию для 2й выборки:"
   ]
  },
  {
   "cell_type": "code",
   "execution_count": 61,
   "id": "f9f492fd",
   "metadata": {},
   "outputs": [
    {
     "data": {
      "text/plain": [
       "60.10000000000001"
      ]
     },
     "execution_count": 61,
     "metadata": {},
     "output_type": "execute_result"
    }
   ],
   "source": [
    "disp2 = np.std(x2, ddof=1)**2\n",
    "disp2"
   ]
  },
  {
   "cell_type": "markdown",
   "id": "7b724324",
   "metadata": {},
   "source": [
    "Рассчитываем среднюю дисперсию для обоих выборок:"
   ]
  },
  {
   "cell_type": "code",
   "execution_count": 62,
   "id": "00c2d505",
   "metadata": {},
   "outputs": [
    {
     "data": {
      "text/plain": [
       "12.294985427671993"
      ]
     },
     "execution_count": 62,
     "metadata": {},
     "output_type": "execute_result"
    }
   ],
   "source": [
    "disp = (disp1 + disp2)**0.5\n",
    "disp"
   ]
  },
  {
   "cell_type": "markdown",
   "id": "a71070af",
   "metadata": {},
   "source": [
    "Рассчитываем ошибку:"
   ]
  },
  {
   "cell_type": "code",
   "execution_count": 63,
   "id": "67b92ed3",
   "metadata": {},
   "outputs": [
    {
     "data": {
      "text/plain": [
       "1.5681189640886302"
      ]
     },
     "execution_count": 63,
     "metadata": {},
     "output_type": "execute_result"
    }
   ],
   "source": [
    "se = (disp/10 + disp/10)**0.5\n",
    "se"
   ]
  },
  {
   "cell_type": "markdown",
   "id": "8ed34499",
   "metadata": {},
   "source": [
    "Применяем формулу для интервальной оценки разности средних арифм.:"
   ]
  },
  {
   "cell_type": "code",
   "execution_count": 64,
   "id": "10443477",
   "metadata": {},
   "outputs": [
    {
     "data": {
      "text/plain": [
       "[-4.61921802647289, 0.8192180264728779]"
      ]
     },
     "execution_count": 64,
     "metadata": {},
     "output_type": "execute_result"
    }
   ],
   "source": [
    "[delta - t1 * se, delta + t1 * se]"
   ]
  },
  {
   "cell_type": "code",
   "execution_count": null,
   "id": "43cd16e1",
   "metadata": {},
   "outputs": [],
   "source": []
  }
 ],
 "metadata": {
  "kernelspec": {
   "display_name": "Python 3 (ipykernel)",
   "language": "python",
   "name": "python3"
  },
  "language_info": {
   "codemirror_mode": {
    "name": "ipython",
    "version": 3
   },
   "file_extension": ".py",
   "mimetype": "text/x-python",
   "name": "python",
   "nbconvert_exporter": "python",
   "pygments_lexer": "ipython3",
   "version": "3.9.13"
  }
 },
 "nbformat": 4,
 "nbformat_minor": 5
}
